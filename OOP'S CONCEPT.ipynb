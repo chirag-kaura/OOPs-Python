{
 "cells": [
  {
   "cell_type": "markdown",
   "id": "dc85aa0d",
   "metadata": {},
   "source": [
    "# OOP's Concept\n"
   ]
  },
  {
   "cell_type": "markdown",
   "id": "0e73f625",
   "metadata": {},
   "source": [
    "### Class Methods:"
   ]
  },
  {
   "cell_type": "code",
   "execution_count": 1,
   "id": "d243d932",
   "metadata": {},
   "outputs": [
    {
     "name": "stdout",
     "output_type": "stream",
     "text": [
      "5\n"
     ]
    }
   ],
   "source": [
    "class MyClass():\n",
    "     a = 5\n",
    "     def  __init__(self, x):\n",
    "          self._x = x\n",
    " \n",
    "     def method1(self):\n",
    "          print(self.x)\n",
    "\n",
    "     @classmethod      \n",
    "     def method2(cls):\n",
    "          print(cls.a)\n",
    "\n",
    "MyClass.method2() "
   ]
  },
  {
   "cell_type": "code",
   "execution_count": 2,
   "id": "ff3ca79a",
   "metadata": {},
   "outputs": [
    {
     "name": "stdout",
     "output_type": "stream",
     "text": [
      "There are 0 Homo sapiens\n",
      "There are 2 Homo sapiens\n"
     ]
    }
   ],
   "source": [
    "class Person:\n",
    "    species  = 'Homo sapiens'\n",
    "    count = 0\n",
    "    def __init__(self,name,age):\n",
    "        self.name = name\n",
    "        self.age = age\n",
    "        Person.count += 1\n",
    "\n",
    "    def display(self):\n",
    "         print(f'{self.name} is {self.age} years old')\n",
    "\n",
    "    @classmethod\n",
    "    def show_count(cls):\n",
    "        print(f'There are {cls.count} {cls.species}')\n",
    "\n",
    "Person.show_count()\n",
    "p1 = Person('John',20)\n",
    "p2 = Person('Jack',34)\n",
    "Person.show_count() "
   ]
  },
  {
   "cell_type": "code",
   "execution_count": 3,
   "id": "dc4cc5b2",
   "metadata": {},
   "outputs": [
    {
     "name": "stdout",
     "output_type": "stream",
     "text": [
      "I am Jack 23 years old\n",
      "I am Jane 34 years old\n"
     ]
    }
   ],
   "source": [
    "class Person:\n",
    "    def __init__(self,name,age):\n",
    "        self.name = name\n",
    "        self.age = age\n",
    "\n",
    "    @classmethod\n",
    "    def from_str(cls,s):\n",
    "        name,age = s.split(',')\n",
    "        return cls(name, int(age))\n",
    "        \n",
    "    @classmethod\n",
    "    def from_dict(cls,d):\n",
    "        return cls(d['name'],d['age'] )\n",
    "\n",
    "    def display(self):\n",
    "         print('I am', self.name, self.age, 'years old')\n",
    "         \n",
    "p1 = Person('John',20)\n",
    "p2 = Person('Jim',35)\n",
    "\n",
    "s = 'Jack,23'\n",
    "d = {'name':'Jane','age':34}\n",
    "            \n",
    "p3 = Person.from_str(s)\n",
    "p3.display()\n",
    "\n",
    "p4 = Person.from_dict(d)\n",
    "p4.display()"
   ]
  },
  {
   "cell_type": "code",
   "execution_count": 4,
   "id": "f4c80cd7",
   "metadata": {},
   "outputs": [
    {
     "ename": "ModuleNotFoundError",
     "evalue": "No module named 'employee'",
     "output_type": "error",
     "traceback": [
      "\u001b[1;31m---------------------------------------------------------------------------\u001b[0m",
      "\u001b[1;31mModuleNotFoundError\u001b[0m                       Traceback (most recent call last)",
      "Input \u001b[1;32mIn [4]\u001b[0m, in \u001b[0;36m<module>\u001b[1;34m\u001b[0m\n\u001b[1;32m----> 1\u001b[0m \u001b[38;5;28;01mfrom\u001b[39;00m \u001b[38;5;21;01memployee\u001b[39;00m \u001b[38;5;28;01mimport\u001b[39;00m Employee\n\u001b[0;32m      2\u001b[0m \u001b[38;5;28;01mfrom\u001b[39;00m \u001b[38;5;21;01mdatetime\u001b[39;00m \u001b[38;5;28;01mimport\u001b[39;00m datetime \n\u001b[0;32m      4\u001b[0m \u001b[38;5;28;01mclass\u001b[39;00m \u001b[38;5;21;01mPerson\u001b[39;00m:\n",
      "\u001b[1;31mModuleNotFoundError\u001b[0m: No module named 'employee'"
     ]
    }
   ],
   "source": [
    "from employee import Employee\n",
    "from datetime import datetime \n",
    "\n",
    "class Person:\n",
    "    def __init__(self,name,age):\n",
    "        self.name = name\n",
    "        self.age = age\n",
    "    \n",
    "    @classmethod\n",
    "    def from_str(cls,s):\n",
    "        name,age = s.split(',')\n",
    "        return cls(name, int(age))\n",
    "        \n",
    "    @classmethod\n",
    "    def from_dict(cls,d):\n",
    "        return cls( d['name'], d['age'] )\n",
    "\n",
    "    @classmethod\n",
    "    def from_employee(cls,emp):\n",
    "        name = emp.first_name + ' ' + emp.last_name\n",
    "        age = datetime.today().year - emp.birth_year\n",
    "        return cls(name,age)\n",
    "        \n",
    "    def display(self):\n",
    "         print('I am', self.name, self.age, 'years old')\n",
    "\n",
    "e1 = Employee('James', 'Smith', 1990,6000) \n",
    "\n",
    "p1 = Person.from_employee(e1)\n",
    "p1.display()"
   ]
  },
  {
   "cell_type": "markdown",
   "id": "67b528de",
   "metadata": {},
   "source": [
    "### Class Person:"
   ]
  },
  {
   "cell_type": "code",
   "execution_count": 5,
   "id": "50344524",
   "metadata": {},
   "outputs": [
    {
     "name": "stdout",
     "output_type": "stream",
     "text": [
      "John is 20 years old\n",
      "Jack is 34 years old\n",
      "2\n",
      "4\n"
     ]
    }
   ],
   "source": [
    "class Person:\n",
    "    species  = 'Homo sapiens'\n",
    "    count = 0\n",
    "\n",
    "    def __init__(self,name,age):\n",
    "        self.name = name\n",
    "        self.age = age\n",
    "        Person.count+=1\n",
    "\n",
    "    def display(self):\n",
    "         print(f'{self.name} is {self.age} years old')\n",
    "         \n",
    "p1 = Person('John',20)\n",
    "p2 = Person('Jack',34)\n",
    "\n",
    "p1.display()\n",
    "p2.display()\n",
    "\n",
    "print(Person.count)\n",
    "p3=Person('Jill', 40)\n",
    "p4=Person('Jane', 35)\n",
    "print(Person.count) "
   ]
  },
  {
   "cell_type": "code",
   "execution_count": 6,
   "id": "e94ddc96",
   "metadata": {},
   "outputs": [],
   "source": [
    "class BankAccount:\n",
    "    rate_of_interest = 5\n",
    "    min_balance = 100\n",
    "    min_balance_fees = 10\n",
    "    \n",
    "    def __init__(self,account_number, owner_name, balance):\n",
    "        self.account_number = account_number\n",
    "        self.owner_name = owner_name\n",
    "        self.balance = balance\n",
    "\n",
    "    def withdraw(self,amount):\n",
    "        self.balance -= amount\n",
    "\n",
    "    def deposit(self,amount):\n",
    "        self.balance += amount\n",
    "\n",
    "\n",
    "account1 = BankAccount('7348', 'Tom', 50)\n",
    "account2 = BankAccount('6378', 'Bob', 400) "
   ]
  },
  {
   "cell_type": "code",
   "execution_count": 7,
   "id": "2a72866f",
   "metadata": {},
   "outputs": [
    {
     "name": "stdout",
     "output_type": "stream",
     "text": [
      "100\n",
      "5\n",
      "5\n",
      "100\n"
     ]
    }
   ],
   "source": [
    "class Book():\n",
    "       x = 5\n",
    "       def __init__(self):\n",
    "            self.x = 100\n",
    "       def display(self):\n",
    "           print(self.x)\n",
    "           print(Book.x)\n",
    "\n",
    "b = Book()\n",
    "b.display()\n",
    "\n",
    "print(Book.x)\n",
    "print(b.x)"
   ]
  },
  {
   "cell_type": "code",
   "execution_count": 8,
   "id": "73bd7a19",
   "metadata": {},
   "outputs": [
    {
     "name": "stdout",
     "output_type": "stream",
     "text": [
      "5 5 2240641171824 2240641171824\n",
      "10 5 2240641171984 2240641171824\n"
     ]
    }
   ],
   "source": [
    "class Account():\n",
    "       rate = 5\n",
    "       def some_method(self): \n",
    "          print(self.rate, Account.rate, id(self.rate), id(Account.rate))\n",
    "          self.rate = 10\n",
    "          print(self.rate, Account.rate, id(self.rate), id(Account.rate))\n",
    "     \n",
    "a1 = Account()\n",
    "a2 = Account()\n",
    "a1.some_method() "
   ]
  },
  {
   "cell_type": "markdown",
   "id": "bf3f0556",
   "metadata": {},
   "source": [
    "### Classes Objects"
   ]
  },
  {
   "cell_type": "code",
   "execution_count": 9,
   "id": "04264e24",
   "metadata": {},
   "outputs": [
    {
     "name": "stdout",
     "output_type": "stream",
     "text": [
      "Hi, How are you doing ?\n",
      "I am  Bob\n",
      "Hello, How do you do ?\n",
      "I am  Ted\n"
     ]
    }
   ],
   "source": [
    "class Person:\n",
    "      def  set_details(self, name, age):\n",
    "            self.name = name\n",
    "            self.age = age\n",
    "\n",
    "      def display(self):\n",
    "            print('I am ', self.name)\n",
    "\n",
    "      def greet(self):\n",
    "            if self.age < 80:\n",
    "                  print('Hi, How are you doing ?')\n",
    "            else:\n",
    "                  print('Hello, How do you do ?')\n",
    "            self.display()\n",
    "      \n",
    "p1 = Person()\n",
    "p1.set_details('Bob', 20)\n",
    "p1.greet()\n",
    "\n",
    "p2 = Person()\n",
    "p2.set_details('Ted', 90)\n",
    "p2.greet()"
   ]
  },
  {
   "cell_type": "code",
   "execution_count": 10,
   "id": "0f23444d",
   "metadata": {},
   "outputs": [
    {
     "name": "stdout",
     "output_type": "stream",
     "text": [
      "Hello, how are you doing?\n",
      "I am John\n",
      "Hello, How do you do ?\n",
      "I am Jack\n",
      "75\n"
     ]
    }
   ],
   "source": [
    "class Person:\n",
    "    def set_details(self,name,age):\n",
    "        self.name = name\n",
    "        self.age = age\n",
    "        \n",
    "    def display(self):\n",
    "         print('I am',self.name)\n",
    "         \n",
    "    def greet(self):\n",
    "        if self.age < 80:\n",
    "            print('Hello, how are you doing?')\n",
    "        else:\n",
    "            print('Hello, How do you do ?')\n",
    "        self.display()\n",
    "\n",
    "    def get_old(self):\n",
    "        self.age = 75\n",
    "\n",
    "        \n",
    "p1 = Person()\n",
    "p2 = Person()\n",
    "\n",
    "p1.set_details('John',20)\n",
    "p2.set_details('Jack',90)\n",
    "\n",
    "p1.greet()\n",
    "p2.greet()\n",
    "\n",
    "p1.get_old()\n",
    "print(p1.age)"
   ]
  },
  {
   "cell_type": "markdown",
   "id": "c75ca93a",
   "metadata": {},
   "source": [
    "### Data Hiding"
   ]
  },
  {
   "cell_type": "code",
   "execution_count": 11,
   "id": "cc06abdb",
   "metadata": {},
   "outputs": [
    {
     "name": "stdout",
     "output_type": "stream",
     "text": [
      "10\n",
      "20\n"
     ]
    }
   ],
   "source": [
    "class Product:\n",
    "    def __init__(self):\n",
    "        self.data1 = 10\n",
    "        self._data2 = 20\n",
    "              \n",
    "    def methodA(self):\n",
    "        pass\n",
    "            \n",
    "    def _methodB(self):\n",
    "        pass\n",
    "\n",
    "p = Product()\n",
    "\n",
    "print(p.data1)\n",
    "p.methodA()\n",
    "print(p._data2)\n",
    "p._methodB()"
   ]
  },
  {
   "cell_type": "code",
   "execution_count": 12,
   "id": "6d57ec5e",
   "metadata": {},
   "outputs": [
    {
     "name": "stdout",
     "output_type": "stream",
     "text": [
      "20\n"
     ]
    }
   ],
   "source": [
    "class Product:\n",
    "    def __init__(self):\n",
    "        self.data1 = 10\n",
    "        self.__data2 = 20\n",
    "              \n",
    "    def methodA(self):\n",
    "        pass\n",
    "            \n",
    "    def __methodB(self):\n",
    "        pass\n",
    "\n",
    "p = Product()\n",
    "#print(p.__data2)\n",
    "#p.__methodB()\n",
    "print(p._Product__data2)\n",
    "p._Product__methodB()"
   ]
  },
  {
   "cell_type": "markdown",
   "id": "98638392",
   "metadata": {},
   "source": [
    "### Inheritance"
   ]
  },
  {
   "cell_type": "code",
   "execution_count": 13,
   "id": "fe816ebe",
   "metadata": {},
   "outputs": [
    {
     "name": "stdout",
     "output_type": "stream",
     "text": [
      "Jack\n",
      "30\n",
      "D4, XYZ Street, Delhi\n",
      "994477291\n",
      "Hello I am Jack\n",
      "None\n",
      "True\n",
      "D4, XYZ Street, Delhi 994477291\n",
      "None\n",
      "True\n",
      "True\n",
      "True\n",
      "True\n",
      "True\n",
      "True\n"
     ]
    }
   ],
   "source": [
    "class Person:\n",
    "    def __init__(self, name, age, address, phone):\n",
    "        self.name = name\n",
    "        self.age = age\n",
    "        self.address = address\n",
    "        self.phone = phone\n",
    "\n",
    "    def greet(self):\n",
    "        print('Hello I am', self.name)\n",
    "\n",
    "    def is_adult(self):\n",
    "        if self.age > 18:\n",
    "            return True\n",
    "        else:\n",
    "            return False\n",
    "        \n",
    "    def contact_details(self):\n",
    "        print(self.address, self.phone)\n",
    "\n",
    "\n",
    "class Employee(Person):\n",
    "   pass\n",
    "\n",
    " \n",
    "emp = Employee('Jack', 30, 'D4, XYZ Street, Delhi', '994477291')\n",
    "\n",
    "print(emp.name)\n",
    "print(emp.age)\n",
    "print(emp.address)\n",
    "print(emp.phone)\n",
    "\n",
    "print(emp.greet())\n",
    "print(emp.is_adult())\n",
    "print(emp.contact_details())\n",
    "\n",
    "print(isinstance(emp,Employee))  \n",
    "print(isinstance(emp, Person))  \n",
    "\n",
    "print(issubclass(Employee, Person))\n",
    "print(issubclass(Person, object))\n",
    "print(issubclass(str, object))\n",
    "print(issubclass(int, object))"
   ]
  },
  {
   "cell_type": "code",
   "execution_count": 14,
   "id": "e02af2b8",
   "metadata": {},
   "outputs": [
    {
     "name": "stdout",
     "output_type": "stream",
     "text": [
      "D4, XYZ Street 994477291\n",
      "ABC Street 384923993\n"
     ]
    }
   ],
   "source": [
    "class Person: \n",
    "    def __init__(self, name, age, address, phone):\n",
    "        self.name = name\n",
    "        self.age = age\n",
    "        self.address = address\n",
    "        self.phone = phone\n",
    "\n",
    "    def greet(self):\n",
    "        print('Hello I am', self.name)\n",
    "\n",
    "    def is_adult(self):\n",
    "        if self.age > 18:\n",
    "            return True\n",
    "        else:\n",
    "            return False\n",
    "        \n",
    "    def contact_details(self):\n",
    "        print(self.address, self.phone)\n",
    "\n",
    "\n",
    "class Employee(Person):\n",
    "    def __init__(self, name, age, address, phone, salary, office_address, office_phone):\n",
    "        super().__init__(name, age, address, phone)\n",
    "        self.salary = salary\n",
    "        self.office_address = office_address\n",
    "        self.office_phone = office_phone\n",
    "\n",
    "    def calculate_tax(self):\n",
    "        if self.salary < 5000:\n",
    "            return 0\n",
    "        else:\n",
    "            return self.salary * 0.05\n",
    "\n",
    "    def contact_details(self):\n",
    "        super().contact_details()\n",
    "        print(self.office_address, self.office_phone)\n",
    "\n",
    "emp = Employee('Jack', 30, 'D4, XYZ Street', '994477291', 8000, 'ABC Street', '384923993')\n",
    "emp.contact_details()"
   ]
  },
  {
   "cell_type": "markdown",
   "id": "9f431339",
   "metadata": {},
   "source": [
    "### Multiple-Inheritance"
   ]
  },
  {
   "cell_type": "code",
   "execution_count": 15,
   "id": "134b2c1c",
   "metadata": {},
   "outputs": [
    {
     "name": "stdout",
     "output_type": "stream",
     "text": [
      "I am a Teaching Assistant\n",
      "(<class '__main__.Student'>, <class '__main__.Teacher'>)\n"
     ]
    }
   ],
   "source": [
    "class Teacher:\n",
    "    def greet(self):\n",
    "        print('I am a Teacher')\n",
    "\n",
    "class Student:\n",
    "    def greet(self):\n",
    "        print('I am a Student')\n",
    "\n",
    "class TeachingAssistant(Student, Teacher):\n",
    "     def greet(self):\n",
    "        print('I am a Teaching Assistant')\n",
    "        \n",
    "x = TeachingAssistant()\n",
    "x.greet()\n",
    "\n",
    "print(TeachingAssistant.__bases__)"
   ]
  },
  {
   "cell_type": "code",
   "execution_count": 16,
   "id": "d4ec4b43",
   "metadata": {},
   "outputs": [
    {
     "name": "stdout",
     "output_type": "stream",
     "text": [
      "I am a Teaching Assistant\n",
      "(<class '__main__.TeachingAssistant'>, <class '__main__.Student'>, <class '__main__.Teacher'>, <class '__main__.Person'>, <class 'object'>)\n",
      "[<class '__main__.TeachingAssistant'>, <class '__main__.Student'>, <class '__main__.Teacher'>, <class '__main__.Person'>, <class 'object'>]\n",
      "(<class '__main__.TeachingAssistant'>, <class '__main__.Student'>, <class '__main__.Teacher'>, <class '__main__.Person'>, <class 'object'>)\n"
     ]
    }
   ],
   "source": [
    "class Person:\n",
    "    def greet(self):\n",
    "        print('I am a Person')\n",
    "\n",
    "class Teacher(Person):\n",
    "    def greet(self):\n",
    "        print('I am a Teacher')\n",
    "\n",
    "class Student(Person):\n",
    "    def greet(self):\n",
    "        print('I am a Student')\n",
    "\n",
    "class TeachingAssistant(Student, Teacher):\n",
    "    def greet(self):\n",
    "        print('I am a Teaching Assistant')\n",
    "        \n",
    "x = TeachingAssistant()\n",
    "x.greet()\n",
    "\n",
    "print(TeachingAssistant.__mro__)\n",
    "print(TeachingAssistant.mro())\n",
    "print(x.__class__.__mro__) "
   ]
  },
  {
   "cell_type": "markdown",
   "id": "841bb965",
   "metadata": {},
   "source": [
    "### Polymorphism"
   ]
  },
  {
   "cell_type": "code",
   "execution_count": 17,
   "id": "3c36db41",
   "metadata": {},
   "outputs": [
    {
     "name": "stdout",
     "output_type": "stream",
     "text": [
      "Car is running\n",
      "Brakes applied\n",
      "Tick Tick Tick\n",
      "Clock needles stopped\n",
      "Person walking\n",
      "Taking rest\n"
     ]
    }
   ],
   "source": [
    "class Car:\n",
    "   def start(self):\n",
    "       print('Engine started')\n",
    "   def move(self):\n",
    "       print('Car is running')\n",
    "   def stop(self):\n",
    "       print('Brakes applied')\n",
    "      \n",
    "class Clock:\n",
    "   def move(self):\n",
    "       print('Tick Tick Tick')\n",
    "   def stop(self):\n",
    "       print('Clock needles stopped')\n",
    "\n",
    "\n",
    "class Person:\n",
    "    def move(self):\n",
    "        print('Person walking')\n",
    "      \n",
    "    def stop(self):\n",
    "        print('Taking rest')\n",
    "\n",
    "    def talk(self):\n",
    "        print('Hello')\n",
    "\n",
    "car = Car()\n",
    "clock = Clock()\n",
    "person = Person()\n",
    "\n",
    "def do_something(x):\n",
    "   x.move()\n",
    "   x.stop()\n",
    "\n",
    "do_something(car)\n",
    "do_something(clock)\n",
    "do_something(person)"
   ]
  },
  {
   "cell_type": "code",
   "execution_count": 18,
   "id": "c000d0e7",
   "metadata": {},
   "outputs": [
    {
     "name": "stdout",
     "output_type": "stream",
     "text": [
      "Triangle\n",
      "Area :  330.0\n",
      "Perimeter :  110\n",
      "Circle\n",
      "Area :  615.44\n",
      "Perimeter :  87.92\n",
      "Rectangle\n",
      "Area :  224\n",
      "Perimeter :  60\n",
      "3539.9667276243017 533.9200000000001\n"
     ]
    }
   ],
   "source": [
    "class Rectangle: \n",
    "    name = 'Rectangle'\n",
    "    def __init__(self, length, breadth):\n",
    "        self.length = length\n",
    "        self.breadth =  breadth\n",
    "\n",
    "    def area(self):\n",
    "        return self.length * self.breadth\n",
    "\n",
    "    def perimeter(self):\n",
    "        return 2 * (self.length + self.breadth)\n",
    "\n",
    "class Triangle:\n",
    "    name = 'Triangle'\n",
    "    def __init__(self, s1, s2, s3):\n",
    "        self.s1 = s1\n",
    "        self.s2 = s2\n",
    "        self.s3 = s3\n",
    "\n",
    "    def area(self):\n",
    "        sp = (self.s1 + self.s2 + self.s3) / 2\n",
    "        return ( sp*(sp-self.s1)*(sp-self.s2)*(sp-self.s3) ) ** 0.5\n",
    "\n",
    "    def perimeter(self):\n",
    "        return self.s1 + self.s2 + self.s3\n",
    "\n",
    "class Circle:\n",
    "    name = 'Circle'\n",
    "    def __init__(self, radius):\n",
    "        self.radius = radius\n",
    "        \n",
    "    def area(self):\n",
    "        return 3.14 * self.radius * self.radius\n",
    "\n",
    "    def perimeter(self):\n",
    "        return 2 * 3.14 * self.radius\n",
    "\n",
    "r1 = Rectangle(13,25)\n",
    "r2 = Rectangle(14,16)\n",
    "t1 = Triangle(14,17,12)\n",
    "t2 = Triangle(25,33,52)\n",
    "c1 = Circle(14)\n",
    "c2 = Circle(25)\n",
    "\n",
    "def find_area_perimeter(shape):    \n",
    "    print(shape.name)\n",
    "    print('Area : ', shape.area() ) \n",
    "    print('Perimeter : ', shape.perimeter() )\n",
    "\n",
    "find_area_perimeter(t2)\n",
    "find_area_perimeter(c1)\n",
    "find_area_perimeter(r2)\n",
    "\n",
    "shapes = [r1,r2,t1,t2,c1,c2]\n",
    "\n",
    "total_area = 0\n",
    "total_perimeter = 0\n",
    "\n",
    "for shape in shapes:\n",
    "    total_area += shape.area()\n",
    "    total_perimeter += shape.perimeter()\n",
    "\n",
    "print(total_area, total_perimeter)"
   ]
  },
  {
   "cell_type": "markdown",
   "id": "0938c799",
   "metadata": {},
   "source": [
    "### Magic Methods"
   ]
  },
  {
   "cell_type": "code",
   "execution_count": 19,
   "id": "a5c85a0e",
   "metadata": {},
   "outputs": [
    {
     "name": "stdout",
     "output_type": "stream",
     "text": [
      "17/12\n"
     ]
    }
   ],
   "source": [
    "class Fraction:\n",
    "    def __init__(self,nr,dr=1):\n",
    "        self.nr = nr \n",
    "        self.dr = dr\n",
    "        if self.dr < 0:  \n",
    "            self.nr *= -1\n",
    "            self.dr *= -1\n",
    "        self._reduce()\n",
    "\n",
    "    def show(self):\n",
    "        print(f'{self.nr}/{self.dr}')\n",
    "\n",
    "    def add(self,other):\n",
    "        if isinstance(other,int):\n",
    "            other = Fraction(other)\n",
    "        f = Fraction(self.nr * other.dr + other.nr * self.dr, self.dr * other.dr)\n",
    "        f._reduce()\n",
    "        return f\n",
    "\n",
    "    def multiply(self,other):\n",
    "        if isinstance(other,int):\n",
    "            other = Fraction(other)\n",
    "        f = Fraction(self.nr * other.nr , self.dr * other.dr)\n",
    "        f._reduce()\n",
    "        return f\n",
    "\n",
    "    def _reduce(self):\n",
    "        h = Fraction.hcf(self.nr, self.dr)\n",
    "        if h == 0:\n",
    "            return\n",
    "        \n",
    "        self.nr //= h\n",
    "        self.dr //= h\n",
    "        \n",
    "    @staticmethod\n",
    "    def hcf(x,y):\n",
    "        x=abs(x)\n",
    "        y=abs(y)\n",
    "        smaller = y if x>y else x\n",
    "        s = smaller\n",
    "        while s>0:\n",
    "            if x%s==0 and y%s==0:\n",
    "                break\n",
    "            s-=1\n",
    "        return s\n",
    "\n",
    "       \n",
    "\n",
    "f1 = Fraction(2,3)\n",
    "f2 = Fraction(3,4)\n",
    "\n",
    "#f3 = f1+f2\n",
    "\n",
    "##f3 = f1*f2\n",
    "\n",
    "f3 = f1.add(f2)\n",
    "f3.show()\n",
    "\n",
    "f3 = f1.multiply(f2)"
   ]
  },
  {
   "cell_type": "code",
   "execution_count": 20,
   "id": "39214e88",
   "metadata": {},
   "outputs": [
    {
     "name": "stdout",
     "output_type": "stream",
     "text": [
      "True\n",
      "True\n",
      "False\n",
      "False\n",
      "True\n",
      "False\n",
      "True\n",
      "2/3\n",
      "2/3\n",
      "[Fraction(3,4), Fraction(4,5), Fraction(1,5)]\n"
     ]
    }
   ],
   "source": [
    "class Fraction:\n",
    "    def __init__(self,nr,dr=1):\n",
    "        self.nr = nr\n",
    "        self.dr = dr\n",
    "        if self.dr < 0:  \n",
    "            self.nr *= -1\n",
    "            self.dr *= -1\n",
    "        self._reduce()\n",
    "\n",
    "    def show(self):\n",
    "        print(f'{self.nr}/{self.dr}')\n",
    "\n",
    "    def __add__(self,other):\n",
    "        if isinstance(other,int):\n",
    "            other = Fraction(other)\n",
    "        f = Fraction(self.nr * other.dr + other.nr * self.dr, self.dr * other.dr)\n",
    "        f._reduce()\n",
    "        return f\n",
    "\n",
    "    def multiply(self,other):\n",
    "        if isinstance(other,int):\n",
    "            other = Fraction(other)\n",
    "        f = Fraction(self.nr * other.nr , self.dr * other.dr)\n",
    "        f._reduce()\n",
    "        return f\n",
    "   \n",
    "    def __eq__(self,other):\n",
    "          return (self.nr * other.dr) == (self.dr * other.nr)\n",
    "\n",
    "    def __lt__(self,other): \n",
    "          return (self.nr * other.dr) < (self.dr * other.nr)\n",
    "\n",
    "    def __le__(self,other):\n",
    "          return (self.nr * other.dr) <= (self.dr * other.nr)\n",
    "    \n",
    "    def __str__(self):\n",
    "        return f'{self.nr}/{self.dr}'\n",
    "\n",
    "    def __repr__(self):\n",
    "        return f'Fraction({self.nr},{self.dr})'\n",
    "\n",
    "    def _reduce(self):\n",
    "        h = Fraction.hcf(self.nr, self.dr)\n",
    "        if h == 0:\n",
    "            return\n",
    "        \n",
    "        self.nr //= h\n",
    "        self.dr //= h\n",
    "        \n",
    "    @staticmethod\n",
    "    def hcf(x,y):\n",
    "        x=abs(x)\n",
    "        y=abs(y)\n",
    "        smaller = y if x>y else x\n",
    "        s = smaller\n",
    "        while s>0:\n",
    "            if x%s==0 and y%s==0:\n",
    "                break\n",
    "            s-=1\n",
    "        return s\n",
    "\n",
    "    def __radd__(self,other):\n",
    "      return self.__add__(other)\n",
    "\n",
    "\n",
    "f1 = Fraction(2,3)\n",
    "f2 = Fraction(2,3)\n",
    "f3 = Fraction(4,6)\n",
    "print(f1 == f2)\n",
    "print(f1 == f3 )\n",
    "print(f1 != f2)\n",
    "\n",
    "f1 = Fraction(2,3)\n",
    "f2 = Fraction(2,3)\n",
    "f3 = Fraction(1,5)\n",
    "print(f1 <  f2)\n",
    "print(f1 <= f2)\n",
    "print(f1 < f3)\n",
    "print(f3 < f1)\n",
    "print(str(f1))\n",
    "print(f1)\n",
    "f1 = Fraction(3,4)\n",
    "f2 = Fraction(4,5)\n",
    "f3 = Fraction(1,5)\n",
    "L = [f1,f2,f3]\n",
    "print(L)\n",
    "\n",
    "f2 = f1 + 3\n",
    "f2 = 3 + f1 "
   ]
  },
  {
   "cell_type": "markdown",
   "id": "e24908a6",
   "metadata": {},
   "source": [
    "### Property"
   ]
  },
  {
   "cell_type": "code",
   "execution_count": 21,
   "id": "ecf0433e",
   "metadata": {},
   "outputs": [
    {
     "name": "stdout",
     "output_type": "stream",
     "text": [
      "12\n",
      "14\n",
      "24\n",
      "12\n"
     ]
    }
   ],
   "source": [
    "class Product:\n",
    "    def __init__(self,x,y):\n",
    "        self._x = x\n",
    "        self._y = y\n",
    "        \n",
    "    def display(self):\n",
    "        print(self._x, self._y)\n",
    "    \n",
    "    @property\n",
    "    def value(self):\n",
    "          return self._x\n",
    "\n",
    "    @value.setter\n",
    "    def value(self, val):\n",
    "         self._x = val\n",
    "    \n",
    "    @property\n",
    "    def y(self):\n",
    "         return self._y\n",
    " \n",
    "    @y.setter\n",
    "    def y(self, val):\n",
    "         self._y = val\n",
    "\n",
    "\n",
    "\n",
    "p = Product(12,24)\n",
    "print(p.value)\n",
    "print(p.value + 2)\n",
    "p.value = 10\n",
    "print(p.y)\n",
    "p.y = 12\n",
    "print(p.y)"
   ]
  },
  {
   "cell_type": "code",
   "execution_count": 22,
   "id": "c4719d00",
   "metadata": {},
   "outputs": [
    {
     "name": "stdout",
     "output_type": "stream",
     "text": [
      "30\n"
     ]
    },
    {
     "ename": "ValueError",
     "evalue": "Age must be between 20 and 80",
     "output_type": "error",
     "traceback": [
      "\u001b[1;31m---------------------------------------------------------------------------\u001b[0m",
      "\u001b[1;31mValueError\u001b[0m                                Traceback (most recent call last)",
      "Input \u001b[1;32mIn [22]\u001b[0m, in \u001b[0;36m<module>\u001b[1;34m\u001b[0m\n\u001b[0;32m     20\u001b[0m p \u001b[38;5;241m=\u001b[39m Person(\u001b[38;5;124m'\u001b[39m\u001b[38;5;124mPeter\u001b[39m\u001b[38;5;124m'\u001b[39m,\u001b[38;5;241m30\u001b[39m)\n\u001b[0;32m     21\u001b[0m \u001b[38;5;28mprint\u001b[39m(p\u001b[38;5;241m.\u001b[39mage)\n\u001b[1;32m---> 22\u001b[0m p\u001b[38;5;241m.\u001b[39mage \u001b[38;5;241m=\u001b[39m \u001b[38;5;241m200\u001b[39m\n\u001b[0;32m     23\u001b[0m \u001b[38;5;28mprint\u001b[39m(p\u001b[38;5;241m.\u001b[39mage)\n\u001b[0;32m     25\u001b[0m p1 \u001b[38;5;241m=\u001b[39m Person(\u001b[38;5;124m'\u001b[39m\u001b[38;5;124mDev\u001b[39m\u001b[38;5;124m'\u001b[39m,\u001b[38;5;241m200\u001b[39m)\n",
      "Input \u001b[1;32mIn [22]\u001b[0m, in \u001b[0;36mPerson.age\u001b[1;34m(self, new_age)\u001b[0m\n\u001b[0;32m     16\u001b[0m   \u001b[38;5;28mself\u001b[39m\u001b[38;5;241m.\u001b[39m_age \u001b[38;5;241m=\u001b[39m new_age\n\u001b[0;32m     17\u001b[0m \u001b[38;5;28;01melse\u001b[39;00m:\n\u001b[1;32m---> 18\u001b[0m    \u001b[38;5;28;01mraise\u001b[39;00m \u001b[38;5;167;01mValueError\u001b[39;00m(\u001b[38;5;124m'\u001b[39m\u001b[38;5;124mAge must be between 20 and 80\u001b[39m\u001b[38;5;124m'\u001b[39m)\n",
      "\u001b[1;31mValueError\u001b[0m: Age must be between 20 and 80"
     ]
    }
   ],
   "source": [
    "class Person:\n",
    "         def __init__(self, name, age):\n",
    "              self.name = name\n",
    "              self.age = age\n",
    "         \n",
    "         def display(self): \n",
    "               print(self.name,self.age)\n",
    "\n",
    "         @property\n",
    "         def age(self):\n",
    "             return self._age\n",
    "\n",
    "         @age.setter\n",
    "         def age(self, new_age):\n",
    "              if  20< new_age<80:\n",
    "                self._age = new_age\n",
    "              else:\n",
    "                 raise ValueError('Age must be between 20 and 80')\n",
    "\n",
    "p = Person('Peter',30)\n",
    "print(p.age)\n",
    "p.age = 200\n",
    "print(p.age)\n",
    "\n",
    "p1 = Person('Dev',200)\n",
    "p.age = p.age +1\n",
    "p.age += 1\n",
    "print(p.age)"
   ]
  },
  {
   "cell_type": "code",
   "execution_count": 23,
   "id": "907234f9",
   "metadata": {},
   "outputs": [
    {
     "name": "stdout",
     "output_type": "stream",
     "text": [
      "Jill\n",
      "5000\n"
     ]
    }
   ],
   "source": [
    "class Employee:\n",
    "      def __init__(self, name, password, salary):\n",
    "          self._name = name\n",
    "          self._password = password\n",
    "          self._salary = salary\n",
    "\n",
    "      @property\n",
    "      def name(self):\n",
    "           return self._name\n",
    "\n",
    "      @property\n",
    "      def password(self):\n",
    "           raise AttributeError('password not readable')\n",
    "        \n",
    "      @password.setter\n",
    "      def password(self, new_password):\n",
    "           self._password =  new_password\n",
    "\n",
    "      @property\n",
    "      def salary(self):\n",
    "           return self._salary\n",
    "\n",
    "      @salary.setter\n",
    "      def salary(self, new_salary):\n",
    "           self._password =  new_salary\n",
    "\n",
    "\n",
    "e = Employee('Jill', 'feb31', 5000)\n",
    "print(e.name)\n",
    "#e.name = 'dd'\n",
    "#print(e.password)\n",
    "e.password = 'feb29'\n",
    "print(e.salary)\n",
    "e.salary = 6000"
   ]
  },
  {
   "cell_type": "code",
   "execution_count": 24,
   "id": "8c942425",
   "metadata": {},
   "outputs": [
    {
     "name": "stdout",
     "output_type": "stream",
     "text": [
      "5.385164807134504\n",
      "11.180339887498949\n"
     ]
    }
   ],
   "source": [
    "class Rectangle():\n",
    "    def __init__(self,length,breadth):\n",
    "           self.length = length\n",
    "           self.breadth = breadth\n",
    "    \n",
    "    def area(self):\n",
    "          return self.length * self.breadth\n",
    "\n",
    "    def perimeter(self):\n",
    "          return 2*(self.length + self.breadth)\n",
    "\n",
    "    @property\n",
    "    def diagonal(self):\n",
    "          return (self.length*self.length + self.breadth * self.breadth)**0.5 \n",
    "\n",
    "r = Rectangle(2,5)\n",
    "print(r.diagonal)\n",
    "r.length = 10\n",
    "print(r.diagonal)"
   ]
  },
  {
   "cell_type": "code",
   "execution_count": 25,
   "id": "b0550e40",
   "metadata": {},
   "outputs": [
    {
     "name": "stdout",
     "output_type": "stream",
     "text": [
      "value deleted\n"
     ]
    }
   ],
   "source": [
    "class Product:\n",
    "    def __init__(self,x,y):\n",
    "        self._x = x\n",
    "        self._y = y\n",
    "        \n",
    "    def display(self):\n",
    "        print(self._x, self._y)\n",
    "    \n",
    "    @property\n",
    "    def value(self):\n",
    "          return self._x\n",
    "\n",
    "    @value.setter\n",
    "    def value(self, val):\n",
    "         self._x = val\n",
    "    \n",
    "    @value.deleter\n",
    "    def value(self):\n",
    "          print('value deleted')\n",
    "    \n",
    "    @property\n",
    "    def y(self):\n",
    "         return self._y\n",
    " \n",
    "    @y.setter\n",
    "    def y(self, val):\n",
    "         self._y = val\n",
    "\n",
    "p = Product(12,24)\n",
    "del p.value"
   ]
  },
  {
   "cell_type": "markdown",
   "id": "cc17faa8",
   "metadata": {},
   "source": [
    "### Static Method"
   ]
  },
  {
   "cell_type": "code",
   "execution_count": 26,
   "id": "1abfa4d1",
   "metadata": {},
   "outputs": [],
   "source": [
    "class MyClass():\n",
    "\n",
    "     a = 5\n",
    "     def  __init__(self, x):\n",
    "          self.x = x\n",
    " \n",
    "     def method1(self):\n",
    "          print(self.x)\n",
    "\n",
    "     @classmethod      \n",
    "     def method2(cls):\n",
    "          print(cls.a)\n",
    "\n",
    "     @staticmethod\n",
    "     def method3(m,n):\n",
    "          return m+n    "
   ]
  },
  {
   "cell_type": "markdown",
   "id": "83f22880",
   "metadata": {},
   "source": [
    "### Initializer"
   ]
  },
  {
   "cell_type": "code",
   "execution_count": 27,
   "id": "0eb51a83",
   "metadata": {},
   "outputs": [
    {
     "name": "stdout",
     "output_type": "stream",
     "text": [
      "I am John\n",
      "Hello, how are you doing?\n",
      "I am Jack\n",
      "Hello, How do you do ?\n"
     ]
    }
   ],
   "source": [
    "class Person:\n",
    "    def __init__(self,name,age):\n",
    "        self.name = name\n",
    "        self.age = age\n",
    "        \n",
    "    def display(self):\n",
    "         print('I am',self.name)\n",
    "         \n",
    "    def greet(self):\n",
    "        if self.age < 80:\n",
    "            print('Hello, how are you doing?')\n",
    "        else:\n",
    "            print('Hello, How do you do ?')\n",
    "\n",
    "p1=Person('John',20)\n",
    "p2=Person('Jack',90)\n",
    "\n",
    "p1.display()\n",
    "p1.greet()\n",
    "\n",
    "p2.display()\n",
    "p2.greet()"
   ]
  },
  {
   "cell_type": "markdown",
   "id": "48277b4f",
   "metadata": {},
   "source": [
    "### Employee"
   ]
  },
  {
   "cell_type": "code",
   "execution_count": 28,
   "id": "ed2dd9f5",
   "metadata": {},
   "outputs": [],
   "source": [
    "class Employee:\n",
    "    def __init__(self,first_name, last_name, birth_year,salary):\n",
    "        self.first_name = first_name  \n",
    "        self.last_name = last_name  \n",
    "        self.birth_year = birth_year\n",
    "        self.salary = salary\n",
    "\n",
    "    def show(self):\n",
    "         print(f'I am {self.first_name} {self.last_name} born in {self.birth_year}')"
   ]
  },
  {
   "cell_type": "markdown",
   "id": "d3c812de",
   "metadata": {},
   "source": [
    "### MRO & Super"
   ]
  },
  {
   "cell_type": "code",
   "execution_count": 29,
   "id": "0bbc5f73",
   "metadata": {},
   "outputs": [
    {
     "name": "stdout",
     "output_type": "stream",
     "text": [
      "I am a Person\n",
      "I am a Student\n",
      "I am a Person\n",
      "I am a Teacher\n",
      "I am a Teaching Assistant\n"
     ]
    }
   ],
   "source": [
    "class Person:\n",
    "    def greet(self):\n",
    "        print('I am a Person')\n",
    "\n",
    "class Teacher(Person):\n",
    "    def greet(self):\n",
    "        Person.greet(self)    \n",
    "        print('I am a Teacher')\n",
    "\n",
    "class Student(Person):\n",
    "    def greet(self):\n",
    "        Person.greet(self)    \n",
    "        print('I am a Student')\n",
    "\n",
    "class TeachingAssistant(Student, Teacher):\n",
    "     def greet(self):\n",
    "         Student.greet(self)\n",
    "         Teacher.greet(self)\n",
    "         print('I am a Teaching Assistant')\n",
    "       \n",
    "x = TeachingAssistant()\n",
    "x.greet()"
   ]
  },
  {
   "cell_type": "code",
   "execution_count": 30,
   "id": "dbfdd6c4",
   "metadata": {},
   "outputs": [
    {
     "name": "stdout",
     "output_type": "stream",
     "text": [
      "I am a Person\n",
      "I am a Teacher\n",
      "I am a Student\n",
      "I am a Teaching Assistant\n",
      "Help on class TeachingAssistant in module __main__:\n",
      "\n",
      "class TeachingAssistant(Student, Teacher)\n",
      " |  Method resolution order:\n",
      " |      TeachingAssistant\n",
      " |      Student\n",
      " |      Teacher\n",
      " |      Person\n",
      " |      builtins.object\n",
      " |  \n",
      " |  Methods defined here:\n",
      " |  \n",
      " |  greet(self)\n",
      " |  \n",
      " |  ----------------------------------------------------------------------\n",
      " |  Data descriptors inherited from Person:\n",
      " |  \n",
      " |  __dict__\n",
      " |      dictionary for instance variables (if defined)\n",
      " |  \n",
      " |  __weakref__\n",
      " |      list of weak references to the object (if defined)\n",
      "\n",
      "I am a Person\n",
      "I am a Student\n"
     ]
    }
   ],
   "source": [
    "class Person:\n",
    "    def greet(self):\n",
    "        print('I am a Person')\n",
    "\n",
    "class Teacher(Person):\n",
    "    def greet(self):\n",
    "        super().greet()    \n",
    "        print('I am a Teacher')\n",
    "\n",
    "class Student(Person):\n",
    "    def greet(self):\n",
    "        super().greet()    \n",
    "        print('I am a Student')\n",
    "\n",
    "class TeachingAssistant(Student, Teacher):\n",
    "     def greet(self):\n",
    "         super().greet()\n",
    "         print('I am a Teaching Assistant')\n",
    "       \n",
    "x = TeachingAssistant()\n",
    "x.greet()\n",
    "\n",
    "help(TeachingAssistant)\n",
    "s = Student()\n",
    "s.greet()"
   ]
  }
 ],
 "metadata": {
  "kernelspec": {
   "display_name": "Python 3 (ipykernel)",
   "language": "python",
   "name": "python3"
  },
  "language_info": {
   "codemirror_mode": {
    "name": "ipython",
    "version": 3
   },
   "file_extension": ".py",
   "mimetype": "text/x-python",
   "name": "python",
   "nbconvert_exporter": "python",
   "pygments_lexer": "ipython3",
   "version": "3.10.2"
  }
 },
 "nbformat": 4,
 "nbformat_minor": 5
}
